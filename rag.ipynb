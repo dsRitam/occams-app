{
 "cells": [
  {
   "cell_type": "code",
   "execution_count": 1,
   "id": "a1584b4b",
   "metadata": {},
   "outputs": [],
   "source": [
    "!pip install -q langchain-google-genai langchain-huggingface langchain-community faiss-cpu python-dotenv"
   ]
  },
  {
   "cell_type": "code",
   "execution_count": 2,
   "id": "4dc32881",
   "metadata": {},
   "outputs": [
    {
     "name": "stdout",
     "output_type": "stream",
     "text": [
      "Found existing installation: keras 3.11.3\n",
      "Uninstalling keras-3.11.3:\n",
      "  Successfully uninstalled keras-3.11.3\n"
     ]
    }
   ],
   "source": [
    "!pip uninstall keras -y"
   ]
  },
  {
   "cell_type": "code",
   "execution_count": 3,
   "id": "fc1fc886",
   "metadata": {},
   "outputs": [
    {
     "name": "stdout",
     "output_type": "stream",
     "text": [
      "Collecting tf-keras\n",
      "  Using cached tf_keras-2.20.1-py3-none-any.whl.metadata (1.8 kB)\n",
      "Collecting tensorflow<2.21,>=2.20 (from tf-keras)\n",
      "  Using cached tensorflow-2.20.0-cp311-cp311-win_amd64.whl.metadata (4.6 kB)\n",
      "Requirement already satisfied: absl-py>=1.0.0 in c:\\users\\ritam\\anaconda3\\lib\\site-packages (from tensorflow<2.21,>=2.20->tf-keras) (2.1.0)\n",
      "Requirement already satisfied: astunparse>=1.6.0 in c:\\users\\ritam\\anaconda3\\lib\\site-packages (from tensorflow<2.21,>=2.20->tf-keras) (1.6.3)\n",
      "Requirement already satisfied: flatbuffers>=24.3.25 in c:\\users\\ritam\\anaconda3\\lib\\site-packages (from tensorflow<2.21,>=2.20->tf-keras) (24.3.25)\n",
      "Requirement already satisfied: gast!=0.5.0,!=0.5.1,!=0.5.2,>=0.2.1 in c:\\users\\ritam\\anaconda3\\lib\\site-packages (from tensorflow<2.21,>=2.20->tf-keras) (0.6.0)\n",
      "Requirement already satisfied: google_pasta>=0.1.1 in c:\\users\\ritam\\anaconda3\\lib\\site-packages (from tensorflow<2.21,>=2.20->tf-keras) (0.2.0)\n",
      "Requirement already satisfied: libclang>=13.0.0 in c:\\users\\ritam\\anaconda3\\lib\\site-packages (from tensorflow<2.21,>=2.20->tf-keras) (18.1.1)\n",
      "Requirement already satisfied: opt_einsum>=2.3.2 in c:\\users\\ritam\\anaconda3\\lib\\site-packages (from tensorflow<2.21,>=2.20->tf-keras) (3.3.0)\n",
      "Requirement already satisfied: packaging in c:\\users\\ritam\\anaconda3\\lib\\site-packages (from tensorflow<2.21,>=2.20->tf-keras) (23.2)\n",
      "Requirement already satisfied: protobuf>=5.28.0 in c:\\users\\ritam\\anaconda3\\lib\\site-packages (from tensorflow<2.21,>=2.20->tf-keras) (5.29.5)\n",
      "Requirement already satisfied: requests<3,>=2.21.0 in c:\\users\\ritam\\anaconda3\\lib\\site-packages (from tensorflow<2.21,>=2.20->tf-keras) (2.32.5)\n",
      "Requirement already satisfied: setuptools in c:\\users\\ritam\\anaconda3\\lib\\site-packages (from tensorflow<2.21,>=2.20->tf-keras) (68.2.2)\n",
      "Requirement already satisfied: six>=1.12.0 in c:\\users\\ritam\\anaconda3\\lib\\site-packages (from tensorflow<2.21,>=2.20->tf-keras) (1.16.0)\n",
      "Requirement already satisfied: termcolor>=1.1.0 in c:\\users\\ritam\\anaconda3\\lib\\site-packages (from tensorflow<2.21,>=2.20->tf-keras) (2.4.0)\n",
      "Requirement already satisfied: typing_extensions>=3.6.6 in c:\\users\\ritam\\anaconda3\\lib\\site-packages (from tensorflow<2.21,>=2.20->tf-keras) (4.12.2)\n",
      "Requirement already satisfied: wrapt>=1.11.0 in c:\\users\\ritam\\anaconda3\\lib\\site-packages (from tensorflow<2.21,>=2.20->tf-keras) (1.14.1)\n",
      "Requirement already satisfied: grpcio<2.0,>=1.24.3 in c:\\users\\ritam\\anaconda3\\lib\\site-packages (from tensorflow<2.21,>=2.20->tf-keras) (1.64.1)\n",
      "Requirement already satisfied: tensorboard~=2.20.0 in c:\\users\\ritam\\anaconda3\\lib\\site-packages (from tensorflow<2.21,>=2.20->tf-keras) (2.20.0)\n",
      "Collecting keras>=3.10.0 (from tensorflow<2.21,>=2.20->tf-keras)\n",
      "  Using cached keras-3.11.3-py3-none-any.whl.metadata (5.9 kB)\n",
      "Requirement already satisfied: numpy>=1.26.0 in c:\\users\\ritam\\anaconda3\\lib\\site-packages (from tensorflow<2.21,>=2.20->tf-keras) (1.26.4)\n",
      "Requirement already satisfied: h5py>=3.11.0 in c:\\users\\ritam\\anaconda3\\lib\\site-packages (from tensorflow<2.21,>=2.20->tf-keras) (3.11.0)\n",
      "Requirement already satisfied: ml_dtypes<1.0.0,>=0.5.1 in c:\\users\\ritam\\anaconda3\\lib\\site-packages (from tensorflow<2.21,>=2.20->tf-keras) (0.5.3)\n",
      "Requirement already satisfied: wheel<1.0,>=0.23.0 in c:\\users\\ritam\\anaconda3\\lib\\site-packages (from astunparse>=1.6.0->tensorflow<2.21,>=2.20->tf-keras) (0.41.2)\n",
      "Requirement already satisfied: rich in c:\\users\\ritam\\anaconda3\\lib\\site-packages (from keras>=3.10.0->tensorflow<2.21,>=2.20->tf-keras) (13.3.5)\n",
      "Requirement already satisfied: namex in c:\\users\\ritam\\anaconda3\\lib\\site-packages (from keras>=3.10.0->tensorflow<2.21,>=2.20->tf-keras) (0.0.8)\n",
      "Requirement already satisfied: optree in c:\\users\\ritam\\anaconda3\\lib\\site-packages (from keras>=3.10.0->tensorflow<2.21,>=2.20->tf-keras) (0.11.0)\n",
      "Requirement already satisfied: charset_normalizer<4,>=2 in c:\\users\\ritam\\anaconda3\\lib\\site-packages (from requests<3,>=2.21.0->tensorflow<2.21,>=2.20->tf-keras) (2.0.4)\n",
      "Requirement already satisfied: idna<4,>=2.5 in c:\\users\\ritam\\anaconda3\\lib\\site-packages (from requests<3,>=2.21.0->tensorflow<2.21,>=2.20->tf-keras) (3.4)\n",
      "Requirement already satisfied: urllib3<3,>=1.21.1 in c:\\users\\ritam\\anaconda3\\lib\\site-packages (from requests<3,>=2.21.0->tensorflow<2.21,>=2.20->tf-keras) (2.0.7)\n",
      "Requirement already satisfied: certifi>=2017.4.17 in c:\\users\\ritam\\anaconda3\\lib\\site-packages (from requests<3,>=2.21.0->tensorflow<2.21,>=2.20->tf-keras) (2025.8.3)\n",
      "Requirement already satisfied: markdown>=2.6.8 in c:\\users\\ritam\\anaconda3\\lib\\site-packages (from tensorboard~=2.20.0->tensorflow<2.21,>=2.20->tf-keras) (3.4.1)\n",
      "Requirement already satisfied: pillow in c:\\users\\ritam\\anaconda3\\lib\\site-packages (from tensorboard~=2.20.0->tensorflow<2.21,>=2.20->tf-keras) (10.2.0)\n",
      "Requirement already satisfied: tensorboard-data-server<0.8.0,>=0.7.0 in c:\\users\\ritam\\anaconda3\\lib\\site-packages (from tensorboard~=2.20.0->tensorflow<2.21,>=2.20->tf-keras) (0.7.2)\n",
      "Requirement already satisfied: werkzeug>=1.0.1 in c:\\users\\ritam\\anaconda3\\lib\\site-packages (from tensorboard~=2.20.0->tensorflow<2.21,>=2.20->tf-keras) (2.2.3)\n",
      "Requirement already satisfied: MarkupSafe>=2.1.1 in c:\\users\\ritam\\anaconda3\\lib\\site-packages (from werkzeug>=1.0.1->tensorboard~=2.20.0->tensorflow<2.21,>=2.20->tf-keras) (2.1.3)\n",
      "Requirement already satisfied: markdown-it-py<3.0.0,>=2.2.0 in c:\\users\\ritam\\anaconda3\\lib\\site-packages (from rich->keras>=3.10.0->tensorflow<2.21,>=2.20->tf-keras) (2.2.0)\n",
      "Requirement already satisfied: pygments<3.0.0,>=2.13.0 in c:\\users\\ritam\\anaconda3\\lib\\site-packages (from rich->keras>=3.10.0->tensorflow<2.21,>=2.20->tf-keras) (2.15.1)\n",
      "Requirement already satisfied: mdurl~=0.1 in c:\\users\\ritam\\anaconda3\\lib\\site-packages (from markdown-it-py<3.0.0,>=2.2.0->rich->keras>=3.10.0->tensorflow<2.21,>=2.20->tf-keras) (0.1.0)\n",
      "Using cached tf_keras-2.20.1-py3-none-any.whl (1.7 MB)\n",
      "Using cached tensorflow-2.20.0-cp311-cp311-win_amd64.whl (331.8 MB)\n",
      "Using cached keras-3.11.3-py3-none-any.whl (1.4 MB)\n",
      "Installing collected packages: keras, tensorflow, tf-keras\n",
      "  Attempting uninstall: tensorflow\n",
      "    Found existing installation: tensorflow 2.16.2\n",
      "    Uninstalling tensorflow-2.16.2:\n",
      "      Successfully uninstalled tensorflow-2.16.2\n",
      "Successfully installed keras-3.11.3 tensorflow-2.20.0 tf-keras-2.20.1\n"
     ]
    },
    {
     "name": "stderr",
     "output_type": "stream",
     "text": [
      "ERROR: pip's dependency resolver does not currently take into account all the packages that are installed. This behaviour is the source of the following dependency conflicts.\n",
      "tensorflow-intel 2.16.2 requires ml-dtypes~=0.3.1, but you have ml-dtypes 0.5.3 which is incompatible.\n",
      "tensorflow-intel 2.16.2 requires protobuf!=4.21.0,!=4.21.1,!=4.21.2,!=4.21.3,!=4.21.4,!=4.21.5,<5.0.0dev,>=3.20.3, but you have protobuf 5.29.5 which is incompatible.\n",
      "tensorflow-intel 2.16.2 requires tensorboard<2.17,>=2.16, but you have tensorboard 2.20.0 which is incompatible.\n"
     ]
    }
   ],
   "source": [
    "!pip install tf-keras"
   ]
  },
  {
   "cell_type": "code",
   "execution_count": 4,
   "id": "87f030ad",
   "metadata": {},
   "outputs": [],
   "source": [
    "import json\n",
    "import os\n",
    "from langchain_huggingface import HuggingFaceEmbeddings\n",
    "from langchain_community.vectorstores import FAISS\n",
    "from langchain_text_splitters import RecursiveCharacterTextSplitter\n",
    "from langchain_google_genai import ChatGoogleGenerativeAI\n",
    "from langchain_core.runnables import RunnablePassthrough\n",
    "from langchain_core.output_parsers import StrOutputParser\n",
    "from langchain_core.prompts import PromptTemplate\n",
    "from langchain_core.documents import Document # for creating langChain documents\n",
    "from dotenv import load_dotenv"
   ]
  },
  {
   "cell_type": "code",
   "execution_count": 20,
   "id": "880fe894",
   "metadata": {},
   "outputs": [
    {
     "name": "stdout",
     "output_type": "stream",
     "text": [
      "Gemini API key: ....\n"
     ]
    }
   ],
   "source": [
    "load_dotenv()\n",
    "os.environ[\"GOOGLE_API_KEY\"] = input(\"Gemini API key: \")"
   ]
  },
  {
   "cell_type": "code",
   "execution_count": 6,
   "id": "e9af5bf1",
   "metadata": {},
   "outputs": [],
   "source": [
    "with open('occams_scraped_data.json', 'r') as f:\n",
    "    scraped_data = json.load(f)"
   ]
  },
  {
   "cell_type": "code",
   "execution_count": 7,
   "id": "71da7c4c",
   "metadata": {},
   "outputs": [
    {
     "data": {
      "text/plain": [
       "156"
      ]
     },
     "execution_count": 7,
     "metadata": {},
     "output_type": "execute_result"
    }
   ],
   "source": [
    "len(scraped_data)"
   ]
  },
  {
   "cell_type": "code",
   "execution_count": 8,
   "id": "93606097",
   "metadata": {},
   "outputs": [
    {
     "name": "stdout",
     "output_type": "stream",
     "text": [
      "{'url': 'https://www.occamsadvisory.com/', 'content': 'Occams Advisory | Global Financing Advisory & Professional Services\\nCareer\\nBlog\\nAwards\\nAbout\\nServices\\nServices\\nBSGI\\nBusiness Services & Growth Incubation\\nFTPS\\nFinancial Technology & Payment\\n                                                                    Solutions\\nCMIB\\nCapital Market & Investment Banking\\nTC\\nTax Advisory and Tax Credits\\nEmployer of\\n                                                                    Record (EOR)\\nWe handle payroll, contracts, taxes, and benefits, so\\n                                                                    you can focus on growth.\\nStructuring,\\n                                                                    Incorporation & Accounting Advisory\\nExpert guidance for business formation, legal\\n                                                                    structuring, and financial setup.\\nProcess\\n                                                                    Efficiency, Compliance, Tax Planning & Filing\\nStreamlining operations, ensuring regulatory\\n                                                                    adherence,\\n                                                                    and optimizing tax strategies.\\nInformation\\n                                                                    Technology Services\\nDelivering innovative tech solutions to enhance\\n                                                                    operations and drive business growth.\\nDigital\\nCrafting strong brand identity, engaging customers\\n                                                                    and\\n                                                                    fostering active community engagement.\\nLearn more about BSGI services\\nDiscover comprehensive\\n                                                                solutions designed to accelerate\\n                                                                your business success.\\nNeed different services?\\nOur team is always at your disposal.\\nTalk\\n                                                                to support\\nMerchant\\n                                                                    Accounts Across the Globe\\nFacilitating global payment acceptance for businesses\\n                                                                    through diverse merchant accounts.\\nTailored\\n                                                                    Payment\\n                                                                    Solutions & Verification Services\\nCustomized payment processing and robust identity\\n                                                                    verification for transactions.\\nCustomized\\n                                                                    Payment\\n                                                                    Risk Management & Analytics\\nMitigating transaction risks and analyzing data for\\n                                                                    secure payment operations.\\nProprietary\\n                                                                    Fintech Platform\\nAn innovative, in-house financial technology platform\\n                                                                    driving modern payment solutions.\\nLearn more about FTPS services\\nDiscover comprehensive\\n                                                                solutions designed to accelerate\\n                                                                your business success.\\nNeed different services?\\nOur team is always at your disposal.\\nTalk\\n                                                                to support\\nCapital\\n                                                                    Raising to Promote Growth\\nSecuring vital funds to fuel business expansion and\\n                                                                    strategic development.\\nFinancial\\n                                                                    Advisory\\n                                                                    and Transaction Integration\\nExpert guidance for financial decisions and seamless\\n                                                                    deal\\n                                                                    execution.\\nSell-Side M&A\\ndvising companies on strategic sales, ensuring\\n                                                                    optimal\\n                                                                    value realization.\\nBuy-Side M&A\\nssisting in identifying, acquiring, and integrating\\n                                                                    target companies effectively.\\nDecision\\n                                                                    Science\\n                                                                    and Risk Assurance\\nLeveraging data for informed decisions and robust\\n                                                                    risk\\n                                                                    mitigation.\\nLearn more about CMIB services\\nDiscover comprehensive\\n                                                                solutions designed to accelerate\\n                                                                your business success.\\nNeed different services?\\nOur team is always at your disposal.\\nTalk\\n                                                                to support\\nEmployee\\n                                                                    Retention Credit (ERC)\\nCOVID-19 relief for businesses retaining employees\\n                                                                    despite pandemic impacts.\\nResearch &\\n                                                                    Development Tax Credit for 2024\\nIncentivizes businesses for innovation through\\n                                                                    qualified research activities in 2024.\\nLearn more about TC services\\nDiscover comprehensive\\n                                                                solutions designed to accelerate\\n                                                                your business success.\\nNeed different services?\\nOur team is always at your disposal.\\nTalk\\n                                                                to support\\nDigital\\nTeam\\nResources\\nResources\\nBLOGS\\nRecognitions\\nPODCAST & WEBINAR\\nMedia\\n                                                            Mentions\\nEVENTS\\nMICRO INSIGHTS\\nVideo Testimonials\\nPress\\n                                                            Release\\nContact\\nLogin\\nCareer\\nBlog\\nAwards\\nAbout\\nServices\\nDigital\\nTeam\\nResources\\nContact\\nLogin\\nBack\\nOVERVIEW\\nBSGI\\nBusiness Services &\\nGrowth Incubation\\nFTPS\\nFinancial Technology &\\nPayment Solutions\\nCMIB\\nCapital Markets &\\nInvestment Banking\\nTC\\nTax Advisory and Tax Credits\\nBack\\nBlogs\\nPodcast & Webinar\\nEvents\\nMicro Insights\\nRecognitions\\nMedia Mentions\\nTestimonials\\nPress Releases\\nYour browser does not support the video tag.\\nOccams Digital\\nOne Subscription. On-Demand. Unlimited Leverage\\nFrom strategy to execution, Occams Digital delivers agile,\\n                                        end-to-end digital marketing solutions for businesses ready to scale.\\nKnow More\\nBusiness\\n                                        Incubation\\nJoin thousands of SMB\\'s that have put their trust in Occams\\nOur world class advisory services are here to help you\\n                                        conveniently set up and\\n                                        manage your business.\\nGrow your Company with\\n                                            us\\nMaximize Your Innovation with R&D Tax Credits\\nUnlock Tax Savings Across All Industries - From Software to\\n                                        Retail\\nBenefit from claiming R&D tax credits to offset future income\\n                                        tax, with\\n                                        carryforwards up to 20 years.\\nClaim Your R&D\\n                                            Credits\\n                                            Today\\nAi Powered\\nFuture - Predicted. Perfected. Presented\\nWelcome to the future of your business. At Occams, we combine\\n                                        our insatiable\\n                                        curiosity with our unwavering inspiration to predict and produce your dream\\n                                        outcome\\nTalk to Us!\\nOccams Digital\\nOne Subscription. On-Demand. Unlimited Leverage\\nFrom strategy to execution, Occams Digital delivers agile,\\n                                        end-to-end digital marketing solutions for businesses ready to scale.\\nKnow More\\nBusiness\\n                                        Incubation\\nJoin thousands of SMB\\'s that have put their trust in Occams\\nOur world class advisory services are here to help you\\n                                        conveniently set up and\\n                                        manage your business.\\nGrow your Company with\\n                                            us\\n1\\n2\\n3\\n4\\n1.68MM\\nBitcoin\\n                                Treasury (USD Value)\\n$114,848.00\\nBTC/USD\\n$102,995.00\\nAvg.\\n                            cost/BTC\\n14.650 BTC\\nBTC\\n                            Balance\\nOur Bitcoin\\n                            Treasury\\nOur bitcoins are held in a fault tolerant multi-institutional custody.\\n1.68MM\\nBitcoin\\n                                Treasury (USD Value)\\n$114,848.00\\nBTC/USD\\n$102,995.00\\nAvg.\\n                            cost/BTC\\n14.650 BTC\\nBTC\\n                            Balance\\nOur Bitcoin\\n                            Treasury\\nOur bitcoins are held in a fault tolerant multi-institutional custody.\\nYour browser does not support the video tag.\\nOccams Digital\\nOne Subscription. On-Demand. Unlimited Leverage\\nFrom strategy to execution, Occams Digital delivers agile,\\n                                        end-to-end digital marketing solutions for businesses ready to scale.\\nKnow More\\nBusiness\\n                                        Incubation\\nJoin thousands of SMB\\'s that have put their trust in Occams\\nOur world class advisory services are here to help you\\n                                        conveniently set up and\\n                                        manage your business.\\nGrow your Company\\n                                            with us\\nMaximize Your Innovation with R&D Tax Credits\\nUnlock Tax Savings Across All Industries - From Software to\\n                                        Retail\\nBenefit from claiming R&D tax credits to offset future income\\n                                        tax, with\\n                                        carryforwards up to 20 years.\\nClaim Your R&D\\n                                            Credits\\n                                            Today\\nAi\\n                                        Powered\\nFuture - Predicted. Perfected. Presented\\nWelcome to the future of your business. At Occams, we combine\\n                                        our insatiable\\n                                        curiosity with our unwavering inspiration to predict and produce your dream\\n                                        outcome\\nTalk to Us!\\nOccams Digital\\nOne Subscription. On-Demand. Unlimited Leverage\\nFrom strategy to execution, Occams Digital delivers agile,\\n                                        end-to-end digital marketing solutions for businesses ready to scale.\\nKnow More\\nBusiness\\n                                        Incubation\\nJoin thousands of SMB\\'s that have put their trust in Occams\\nOur world class advisory services are here to help you\\n                                        conveniently set up and\\n                                        manage your business.\\nGrow your Company\\n                                            with us\\n1\\n2\\n3\\n4\\nAs seen on\\nRecognized\\n                        by Leading Industry Publications\\nTop 3 Awards\\n                    in\\n                    2025\\nCelebrating Excellence: Top Accolades in Business and Workplace Environment\\nFORTUNE AMERICA’S\\nMost Innovative Companies\\nAward list – 2023.\\nThis award recognizes Occams Advisory for its excellence in product\\n                        innovation,\\n                        process\\n                        innovation, and innovation culture, as selected by Fortune and Statista Inc..\\nFinancial Times’ The Americas’ Fastest-Growing Companies - 2020\\n                            to\\n                            2023, 2025\\nRank 159\\nOccams Advisory is thrilled to be recognized in the Financial Times\\' 2025\\n                            list of the Americas\\' Fastest-Growing Companies. This achievement underscores our relentless\\n                            pursuit of excellence and innovation, driving sustained growth and industry leadership.\\nINC 5000\\nFastest Growing US Companies – 2016 to 2021, 2023 and 2024\\nThis marks the eight time in nine years that the company has been\\n                            recognized\\n                            on this\\n                            prestigious\\n                            list of the fastest-growing private companies in America.\\nINC 5000\\nFastest Growing US Companies – 2016 to 2021, 2023 and 2024\\nThis marks the eight time in nine years that the company has been\\n                            recognized\\n                            on this\\n                            prestigious\\n                            list of the fastest-growing private companies in America.\\nFORTUNE AMERICA’S\\nMost Innovative Companies\\nAward list – 2023.\\nThis award recognizes Occams Advisory for its excellence in product\\n                        innovation,\\n                        process\\n                        innovation, and innovation culture, as selected by Fortune and Statista Inc..\\nFinancial Times’ The Americas’ Fastest-Growing Companies -\\n                                2020\\n                                to\\n                                2023, 2025\\nRank 159\\nOccams Advisory is thrilled to be recognized in the Financial Times\\'\\n                                2025\\n                                list of the Americas\\' Fastest-Growing Companies. This achievement underscores our\\n                                relentless\\n                                pursuit of excellence and innovation, driving sustained growth and industry leadership.\\nINC 5000\\nFastest Growing US Companies – 2016 to 2021, 2023 and 2024\\nThis marks the eight time in nine years that the company has been\\n                            recognized\\n                            on this\\n                            prestigious\\n                            list of the fastest-growing private companies in America.\\nFORTUNE AMERICA’S\\nMost Innovative Companies\\nAward list – 2023.\\nThis award recognizes Occams Advisory for its excellence in product\\n                        innovation,\\n                        process\\n                        innovation, and innovation culture, as selected by Fortune and Statista Inc..\\n1\\n2\\n3\\nView All\\n                    Awards\\n1\\n2\\n3\\n1\\n2\\n3\\nThe Occams\\n                            Way\\nThrough our\\n                        observations and learnings, we have\\n                        created a logical and sequential O.C.C.A.M.S set of\\n                        Values and Principles, across Emotional, Intellectual and Physical dimensions that human beings\\n                        operate\\n                        in.\\nLearn our Philosophy\\nOur Bitcoin Treasury\\nOur bitcoins are held in a fault tolerant multi-institutional custody.\\n$1.68MM\\nBitcoin Treasury (USD Value)\\n$114,848.00\\nBTC/USD\\n$106,559.95\\nAvg. Acquisition Price\\n14.65 BTC\\nBTC Held\\n5%\\nof our free cash flow\\nDisclaimer: All figures are in USD. Not investment, tax, or legal advice; no offer or solicitation of\\n                    securities. BTC holdings shown may lag actual purchases by few weeks.\\nGlobally Integrated Services\\nSeamlessly\\n                    Connecting Markets and Innovations Worldwide\\nBSGI\\nBusiness\\n                                    Services & Growth Incubation\\nStructuring, Incorporation & Accounting\\n                                        Advisory\\nProcess Efficiency, Compliance Tax Planning\\n                                        & Filing\\nDigital\\nInformation Technology Services\\nFTPS\\nFinancial Technology & Payment Solutions\\nMerchant Accounts Across the Globe\\nTailored Payment Solutions & Verification\\n                                        Services\\nCustomized Payment Risk Management &\\n                                        Analytics\\nProprietary Fintech Platform\\nCMIB\\nCapital\\n                                    Markets & Investment Banking\\nCapital Raising to Promote Growth\\nFinancial Advisory & Transaction\\n                                        Integration\\nSell-side\\n                                        Mergers & Acquisitions\\nBuy-side\\n                                        Mergers & Acquisitions\\nDecision\\n                                        Science & Risk\\n                                        Assurance\\nTC\\nTax Credits\\nEmployee Retention Credit (ERC)\\nAudit\\n                                            Advisory\\nNews\\nFAQs\\nResearch & Development (R&D)\\nBSGI\\nBusiness\\n                                    Services & Growth Incubation\\nStructuring, Incorporation & Accounting Advisory\\nProcess Efficiency, Compliance Tax Planning & Filing\\nDigital\\nInformation Technology Services\\nFTPS\\nFinancial\\n                                Technology & Payment Solutions\\nMerchant Accounts Across the Globe\\nTailored Payment Solutions & Verification Services\\nCustomized Payment Risk Management & Analytics\\nProprietary Fintech Platform\\nCMIB\\nCapital Markets &\\n                                Investment Banking\\nCapital Raising to Promote Growth\\nFinancial Advisory & Transaction\\nIntegration\\nSell-side Mergers\\n                                    & Acquisitions\\nBuy-side Mergers\\n                                    & Acquisitions\\nDecision Science\\n                                    & Risk\\n                                    Assurance\\nTC\\nTax Credits\\nEmployee Retention Credit (ERC)\\nAudit\\n                                        Advisory\\nNews\\nFAQs\\nResearch & Development (R&D)\\nBook A Free\\n                        Consultation\\nBook a\\n                    no-obligation 15-minute\\n                    consult and join thousands of other business that we are helping qualify for the program.\\nTeam\\nWe believe in engaging people who are instinctively inclined\\n                                to support our clients and yet challenge them to superior levels. Our people measure our\\n                                success by a singular yardstick - the measurable impact of our services to our clients. We\\n                                strive to build a work-culture where client\\'s success is synonymous with ours.\\nMeet Us\\nImpact\\nIn a world where over a billion are malnourished and even more lack\\n                                clean water, one in\\n                                five children receives no education and faces significant risks. It\\'s crucial to implement\\n                                both preventive and remedial measures to address these issues. We must act swiftly to ensure\\n                                global well-being and sustainability.\\nRead More\\nPhilosophy\\nTo us, our clients\\' business is our\\n                                business. We train to\\n                                think like our clients\\' partners, making their goals our primary focus. We strive to\\n                                understand and align with their aspirations. At Occams, our values are straightforward and\\n                                easy to follow, reflecting our deep dedication to client success.\\nKnow Us\\nClients Testimonials\\nReal\\n                    Feedback from Our Clients: Hear What They Have to Say\\nGreat experience\\n                                All of the people I worked with were very professional and prompt in answering all the\\n                                questions\\n                                I had.\\n                                Great Job!! To all involved\\nBill Wegleitner\\nTrustpilot\\n4.6 | 30 review\\nWorking with Occams was a fantastic experience. They were excellent\\n                                communicators and came\\n                                through on all of their promises. I was a little skeptical of at first, as I am sure\\n                                most people\\n                                were, but they delivered!\\nRye Nazarian\\nTrustpilot\\n4.6 | 30 review\\nAll representatives were very knowledgeable and customer service\\n                                oriented.\\n                                I felt they wanted to\\n                                assist me and insure my needs were met. All my questions and concerns were addressed in\\n                                a caring\\n                                and professional manner- Thank you Fidelity and OCCAMS for your support in this\\n                                effort!!!!!\\nBennie O Brooks\\nTrustpilot\\n4.6 | 30 review\\nThe company was clear in what they needed from us to get the\\n                                application\\n                                submitted, and they\\n                                handled the rest. They do not get paid until you do.\\nSusan Szymborski\\nTrustpilot\\n4.6 | 30 review\\nDid exactly what they said they would do and they got us all this\\n                                money\\n                                that we didn’t even know\\n                                about. Very easy and pleasant experience.\\nJeremy Henri\\nTrustpilot\\n4.6 | 30 review\\nGreat experience\\n                                All of the people I worked with were very professional and prompt in answering all the\\n                                questions\\n                                I had.\\n                                Great Job!! To all involved\\nBill Wegleitner\\nTrustpilot\\n4.6 | 30 review\\nWorking with Occams was a fantastic experience. They were excellent\\n                                communicators and came\\n                                through on all of their promises. I was a little skeptical of at first, as I am sure\\n                                most people\\n                                were, but they delivered!\\nRye Nazarian\\nTrustpilot\\n4.6 | 30 review\\n1\\n2\\n3\\n4\\n5\\nEmployee Testimonials\\nGenuine Insights into\\n                Our Workplace Culture\\nPeter Braganza\\nAssociate - Client Relations\\nThe company\\'s values of maximizing human potential and achievement\\n                        resonate\\n                        deeply with me in my\\n                        daily work. Each day, I\\'m encouraged to push my boundaries and strive for personal growth and\\n                        development. Whether it\\'s through ongoing learning opportunities, mentorship programs, or\\n                        challenging projects, I\\'m constantly inspired to maximize my potential.\\nRadhika Garg\\nAnalyst - Finance & Accounting\\nThe company has met my expectations in terms of Work culture, the\\n                        dedication\\n                        towards work, the\\n                        challenges we face across & learning that keeps us going\\nSoniya Ghosh\\nAssociate - HCMI\\n\"Occams Advisory has provided me with vast opportunities to explore\\n                        my domain\\n                        of work, helping to\\n                        shape both my personality and my outlook on various aspects of my field. Working here under\\n                        amazing leadership has significantly contributed to my professional development.\\n                        \"\\nSteven Miltonberg\\nAVP - Client Relations\\nOccams has consistently remained hyper employee focused on learning\\n                        and\\n                        evolving and supporting\\n                        the company\\'s employees has far exceeded my expectations.\\nMaria Antonio\\nAVP - Client Relations\\n\"One of my most memorable moments at Occams Advisory was the\\n                        realization that I\\n                        would be working\\n                        with a corporate company that offered numerous benefits and opportunities for professional\\n                        growth. It was a moment of excitement and anticipation as I envisioned the possibilities for my\\n                        career development and personal advancement within the organization.\\n\\n                        This realization marked a significant turning point in my professional journey, as I recognized\\n                        the potential for learning, advancement, and long-term stability that Occams Advisory offers. It\\n                        was a moment filled with hope and optimism for the future, knowing that I had found a company\\n                        where I could thrive and achieve my career aspirations.\\n\\n                        Since that moment, I have been grateful for the support, mentorship, and opportunities for\\n                        growth that Occams Advisory has provided. It has been a fulfilling experience, and I look\\n                        forward to continuing to learn, evolve, and contribute to the success of the company in the\\n                        years to come.\"\\nLlajaira Soto\\nAVP - Client Success\\n\"The company\\'s values of maximizing human potential and achievement\\n                        manifest in\\n                        my daily work\\n                        through a consistent emphasis on trustworthiness, reliability, and accountability.\\n\\n                        Being trustworthy and reliable in the workplace means consistently demonstrating integrity\\n                        through actions, not just words. I take ownership of my commitments, ensuring that I deliver\\n                        high-quality work and meet deadlines.\\n\\n                        Additionally, the company fosters an environment that encourages continuous learning and\\n                        professional development. This focus on growth enables me to expand my skills and knowledge,\\n                        which in turn enhances my ability to contribute effectively to the team and the company\\'s\\n                        success. Collaborating with colleagues across various functions allows us to share expertise,\\n                        support one another, and collectively drive towards our goals.\\n\\n                        I have seen firsthand how our values translate into tangible outcomes. For example, in working\\n                        with the ERC Service, our commitment to client success means we go above and beyond to ensure\\n                        clients receive the best possible guidance and support. This dedication not only helps our\\n                        clients achieve their objectives but also reflects the company\\'s broader mission of maximizing\\n                        human potential and achievement.\\n\\n                        Through these practices, the values of trustworthiness, reliability, and continuous improvement\\n                        are woven into the fabric of our daily operations, driving both individual and collective\\n                        success.\"\\nJesse Westfall\\nAssociate - Client Relations\\nWork from home support that allows me to maximize time with family\\n                        outside of\\n                        working hours.\\nPeter Braganza\\nAssociate - Client Relations\\nThe company\\'s values of maximizing human potential and achievement\\n                        resonate\\n                        deeply with me in my\\n                        daily work. Each day, I\\'m encouraged to push my boundaries and strive for personal growth and\\n                        development. Whether it\\'s through ongoing learning opportunities, mentorship programs, or\\n                        challenging projects, I\\'m constantly inspired to maximize my potential.\\nRadhika Garg\\nAnalyst - Finance & Accounting\\nThe company has met my expectations in terms of Work culture, the\\n                        dedication\\n                        towards work, the\\n                        challenges we face across & learning that keeps us going\\nSoniya Ghosh\\nAssociate - HCMI\\n\"Occams Advisory has provided me with vast opportunities to explore\\n                        my domain\\n                        of work, helping to\\n                        shape both my personality and my outlook on various aspects of my field. Working here under\\n                        amazing leadership has significantly contributed to my professional development.\\n                        \"\\nSteven Miltonberg\\nAVP - Client Relations\\nOccams has consistently remained hyper employee focused on learning\\n                        and\\n                        evolving and supporting\\n                        the company\\'s employees has far exceeded my expectations.\\nMaria Antonio\\nAVP - Client Relations\\n\"One of my most memorable moments at Occams Advisory was the\\n                        realization that I\\n                        would be working\\n                        with a corporate company that offered numerous benefits and opportunities for professional\\n                        growth. It was a moment of excitement and anticipation as I envisioned the possibilities for my\\n                        career development and personal advancement within the organization.\\n\\n                        This realization marked a significant turning point in my professional journey, as I recognized\\n                        the potential for learning, advancement, and long-term stability that Occams Advisory offers. It\\n                        was a moment filled with hope and optimism for the future, knowing that I had found a company\\n                        where I could thrive and achieve my career aspirations.\\n\\n                        Since that moment, I have been grateful for the support, mentorship, and opportunities for\\n                        growth that Occams Advisory has provided. It has been a fulfilling experience, and I look\\n                        forward to continuing to learn, evolve, and contribute to the success of the company in the\\n                        years to come.\"\\nLlajaira Soto\\nAVP - Client Success\\n\"The company\\'s values of maximizing human potential and achievement\\n                        manifest in\\n                        my daily work\\n                        through a consistent emphasis on trustworthiness, reliability, and accountability.\\n\\n                        Being trustworthy and reliable in the workplace means consistently demonstrating integrity\\n                        through actions, not just words. I take ownership of my commitments, ensuring that I deliver\\n                        high-quality work and meet deadlines.\\n\\n                        Additionally, the company fosters an environment that encourages continuous learning and\\n                        professional development. This focus on growth enables me to expand my skills and knowledge,\\n                        which in turn enhances my ability to contribute effectively to the team and the company\\'s\\n                        success. Collaborating with colleagues across various functions allows us to share expertise,\\n                        support one another, and collectively drive towards our goals.\\n\\n                        I have seen firsthand how our values translate into tangible outcomes. For example, in working\\n                        with the ERC Service, our commitment to client success means we go above and beyond to ensure\\n                        clients receive the best possible guidance and support. This dedication not only helps our\\n                        clients achieve their objectives but also reflects the company\\'s broader mission of maximizing\\n                        human potential and achievement.\\n\\n                        Through these practices, the values of trustworthiness, reliability, and continuous improvement\\n                        are woven into the fabric of our daily operations, driving both individual and collective\\n                        success.\"\\n1\\n2\\n3\\n4\\n5\\n6\\n7\\nBlogs: Insights\\n                    &\\n                    Thought\\n                    Leadership\\nExplore Our Latest\\n                Articles on Business Growth and Innovation\\nTrump’s “One Big Beautiful Bill Act”: What It Means\\n                            for Small Business Owners\\nJul 15, 2025\\nTrump’s sweeping 2025 tax-and-spending law expanding cuts\\n                            and control. Aims to simplify policy under a single massive bill. Critics warn it\\n                            centralizes too much power in Washington.\\nRead More\\nFrom What If to Even If: The Mindset Behind Our\\n                            Momentum\\nJul 15, 2025\\nOccams Digital didn’t start in a sleek boardroom with a\\n                            polished pitch deck or a detailed five-year plan. It started with a feeling, a few bold\\n                            questions, and a bunch of people who were willing to try something new, even if they didn’t\\n                            have all the answers.\\nRead More\\nOccams Advisory Honored as One of the Best Workplaces\\n                            of 2025 by INC\\nJul 7, 2025\\nIn a landmark moment that reinforces its commitment to\\n                            excellence and culture, Occams Advisory has been named one of the Best Workplaces of 2025 by\\n                            INC. This prestigious recognition is a powerful...\\nRead More\\nOccams Advisory Honored as One of the Best\\n                                Workplaces of 2025 by INC\\nJun 17, 2025\\nBlog At A Glance: Another Feather in the Cap What It Means\\n                                for Occams as a Global Organization Leadership Reflections on the Recognition Looking\\n                                Ahead In a landmark moment that reinforces its commitment to excellence and culture,\\n                                Occams Advisory...\\nRead\\n                                    More\\nTrump’s “One Big Beautiful Bill Act”: What It\\n                                Means for Small Business Owners\\nJun 17, 2025\\nTrump’s sweeping 2025 tax-and-spending law expanding cuts\\n                                and control. Aims to simplify policy under a single massive bill. Critics warn it\\n                                centralizes too much power in Washington.\\nRead\\n                                    More\\nFrom What If to Even If: The Mindset Behind Our\\n                                Momentum\\nJul 15, 2025\\nBlog At A Glance: How Occams Digital turned hesitation into\\n                                horsepower Fear vs. Courage: The \"What If\" vs. \"Even If\" Battle The Occams Digital Leap\\n                                This Week, Try This: Flip Your Script Final Thought How Occams Digital turned hesitation\\n                                into horsepower Occams...\\nRead More\\nOccams Advisory Honored as One of the Best\\n                                Workplaces of 2025 by INC\\nJun 17, 2025\\nBlog At A Glance: Another Feather in the Cap What It Means\\n                                for Occams as a Global Organization Leadership Reflections on the Recognition Looking\\n                                Ahead In a landmark moment that reinforces its commitment to excellence and culture,\\n                                Occams Advisory...\\nRead\\n                                    More\\nTrump’s “One Big Beautiful Bill Act”: What It\\n                                Means for Small Business Owners\\nJun 17, 2025\\nTrump’s sweeping 2025 tax-and-spending law expanding cuts\\n                                and control. Aims to simplify policy under a single massive bill. Critics warn it\\n                                centralizes too much power in Washington.\\nRead\\n                                    More\\n1\\n2\\n3\\nBrowse All\\nUnleash THE\\nOCCAMS WAY\\nWe offer a FREE 30-minute consultation to help you identify\\n                    areas of your business or personal finances where you can get\\n                    immediate results by using our evidence-based approach to superior results.\\nGrow your Company with us\\nGet Instant Help\\nGet in touch with our team via live chat. They are available 24x7.\\nBuzz us in! We will reply within 2-4 business hours.\\nCall\\nChat Support\\nBook\\n                            a Free\\nConsultation\\nEmail\\nUnleash THE\\nOCCAMS WAY\\nWe offer a FREE 30-minute consultation to help you identify\\n                    areas of your business or personal finances where you can get\\n                    immediate results by using our evidence-based approach to superior results.\\nGrow your Company with us\\nGet Instant Help\\nGet in touch with our team via live chat. They are available 24x7.\\nBuzz us in! We will reply within 2-4 business hours.\\nCall\\nChat Support\\nBook\\n                            a Free  Consultation\\nEmail\\nCorporate Head Office\\n2170 Main St, Ste 203,\\nSarasota, FL 34237\\nConnect With Us\\nKnow Us Better\\nAbout\\nContact\\nPhilosophy\\nPress\\n                                Releases\\nTeam\\nAwards\\nServices\\nBusiness\\n                                Services\\n                                & Growth Incubation\\nCapital\\n                                Markets & Investment\\n                                Banking\\nFinancial\\n                                Technology &\\n                                Payment Solutions\\nTax\\n                                Credits\\nClient Resources\\nBlogs\\nPress\\n                                Releases\\nMicro\\n                                Insights\\nPodcasts\\nEvents\\nTestimonials\\nGet\\n                                Started\\nSite\\n                                map\\nConnect With Us\\n© 2025 Occams Advisory. All Right Reserved. Occams Advisory provides\\n                            independent\\n                            corporate services. All other trademarks, company names, product names and brand names\\n                            are the property of\\n                            their respective owners. For further details refer\\nPrivacy Policy\\n&\\nTerms and Conditions\\nFREE LANDING INSIGHTS ON EMPLOYEE RETENTION CREDIT\\nSubmit'}\n"
     ]
    }
   ],
   "source": [
    "for i in scraped_data[:1]:\n",
    "    print(i)"
   ]
  },
  {
   "cell_type": "code",
   "execution_count": 9,
   "id": "54351bf7",
   "metadata": {},
   "outputs": [
    {
     "name": "stdout",
     "output_type": "stream",
     "text": [
      "3940\n"
     ]
    }
   ],
   "source": [
    "documents = []\n",
    "\n",
    "for data in scraped_data:\n",
    "    content = data['content']\n",
    "    splitter = RecursiveCharacterTextSplitter(chunk_size=1000, chunk_overlap=100)\n",
    "    chunks = splitter.split_text(content)\n",
    "    for chunk in chunks:\n",
    "#         print(chunk)\n",
    "#         print(\"-\"*50)\n",
    "        documents.append(Document(page_content=chunk, metadata={\"url\":data['url']}))\n",
    "\n",
    "print(len(documents))  "
   ]
  },
  {
   "cell_type": "code",
   "execution_count": 10,
   "id": "b038e503",
   "metadata": {},
   "outputs": [
    {
     "name": "stdout",
     "output_type": "stream",
     "text": [
      "WARNING:tensorflow:From C:\\Users\\RITAM\\anaconda3\\Lib\\site-packages\\tf_keras\\src\\losses.py:2976: The name tf.losses.sparse_softmax_cross_entropy is deprecated. Please use tf.compat.v1.losses.sparse_softmax_cross_entropy instead.\n",
      "\n"
     ]
    }
   ],
   "source": [
    "embeddings = HuggingFaceEmbeddings(model_name=\"sentence-transformers/all-MiniLM-L6-v2\")\n",
    "\n",
    "vectorstore = FAISS.from_documents(documents, embeddings)\n",
    "vectorstore.save_local(\"faiss_index\")"
   ]
  },
  {
   "cell_type": "code",
   "execution_count": 11,
   "id": "cd11a0d2",
   "metadata": {},
   "outputs": [],
   "source": [
    "llm = ChatGoogleGenerativeAI(model=\"gemini-1.5-flash\", temperature=0.3)\n",
    "\n",
    "prompt_template = ''' You are a helpful assistant for Occams Advisory. Use only the provided context to answer the question.\n",
    "If the information is not in the context, say \"I don't have enough information to answer that.\" Personalize with the user's name if provided.\n",
    "\n",
    "Context: {context}\n",
    "Question: {question}\n",
    "Answer: \"\"\"\n",
    "'''\n",
    "\n",
    "prompt = PromptTemplate.from_template(prompt_template)"
   ]
  },
  {
   "cell_type": "code",
   "execution_count": 12,
   "id": "5bca29c9",
   "metadata": {},
   "outputs": [],
   "source": [
    "retriver = vectorstore.as_retriever(search_kwrags={\"k\":3})"
   ]
  },
  {
   "cell_type": "code",
   "execution_count": 14,
   "id": "a4c3a6de",
   "metadata": {},
   "outputs": [],
   "source": [
    "def combine_retrieved_parts(parts):\n",
    "    return \"\\n\".join(part.page_content for part in parts)"
   ]
  },
  {
   "cell_type": "code",
   "execution_count": 15,
   "id": "2e3217d1",
   "metadata": {},
   "outputs": [],
   "source": [
    "rag_chain = (\n",
    "    {\"context\": retriver | combine_retrieved_parts, \"question\": RunnablePassthrough()}\n",
    "    | prompt\n",
    "    | llm\n",
    "    | StrOutputParser()\n",
    ")"
   ]
  },
  {
   "cell_type": "code",
   "execution_count": 16,
   "id": "465daf2c",
   "metadata": {},
   "outputs": [],
   "source": [
    "query = \"What services does Occams Advisory offer?\""
   ]
  },
  {
   "cell_type": "code",
   "execution_count": 17,
   "id": "779db3db",
   "metadata": {},
   "outputs": [
    {
     "data": {
      "text/plain": [
       "'Occams Advisory offers services in three verticals: Business Services & Growth Incubation (BSGI), Capital Markets & Investment Banking (CMIB), and Financial Technology & Payment Solutions (FTPS).  They also handle tax filing,  help with process efficiency, compliance, and tax planning, and offer services related to structuring and incorporation, brand building, digital marketing, and enhancing online presence.'"
      ]
     },
     "execution_count": 17,
     "metadata": {},
     "output_type": "execute_result"
    }
   ],
   "source": [
    "answer = rag_chain.invoke(query)\n",
    "answer"
   ]
  },
  {
   "cell_type": "code",
   "execution_count": 19,
   "id": "4df02d5e",
   "metadata": {},
   "outputs": [
    {
     "name": "stdout",
     "output_type": "stream",
     "text": [
      "Question: What is this company?\n",
      "Answer: This is Occams Advisory.  They provide independent services.\n",
      "\n",
      "Question: what kind of services?\n",
      "Answer: Occams Advisory offers services in three areas:\n",
      "\n",
      "* **Streamlining operations, ensuring regulatory adherence, and optimizing tax strategies.**\n",
      "* **Information Technology Services:** Delivering innovative tech solutions to enhance operations and drive business growth.\n",
      "* **Digital:** Crafting strong brand identity, engaging customers and fostering active community engagement.\n",
      "\n",
      "Question: exit\n"
     ]
    }
   ],
   "source": [
    "while True:\n",
    "    query = input(\"Question: \")\n",
    "    if query.lower() == \"exit\":\n",
    "        break\n",
    "    answer = rag_chain.invoke(query)\n",
    "    print(f'Answer: {answer}\\n')"
   ]
  },
  {
   "cell_type": "code",
   "execution_count": null,
   "id": "5f5d5de8",
   "metadata": {},
   "outputs": [],
   "source": []
  }
 ],
 "metadata": {
  "kernelspec": {
   "display_name": "Python 3 (ipykernel)",
   "language": "python",
   "name": "python3"
  },
  "language_info": {
   "codemirror_mode": {
    "name": "ipython",
    "version": 3
   },
   "file_extension": ".py",
   "mimetype": "text/x-python",
   "name": "python",
   "nbconvert_exporter": "python",
   "pygments_lexer": "ipython3",
   "version": "3.11.7"
  }
 },
 "nbformat": 4,
 "nbformat_minor": 5
}
